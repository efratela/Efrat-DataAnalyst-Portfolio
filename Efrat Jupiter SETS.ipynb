{
 "cells": [
  {
   "cell_type": "code",
   "execution_count": 1,
   "id": "149f2a34",
   "metadata": {},
   "outputs": [],
   "source": [
    "## Python Dictionary\n",
    "#Left: Key, Right: Value\n",
    "# We cannot get thorough INDEX (location: 0,1,2,3...), But only through Key"
   ]
  },
  {
   "cell_type": "code",
   "execution_count": 2,
   "id": "9c755c16",
   "metadata": {},
   "outputs": [],
   "source": [
    "d={2:3, 'a':5, 'avi': 67}"
   ]
  },
  {
   "cell_type": "code",
   "execution_count": 3,
   "id": "dcb25237",
   "metadata": {},
   "outputs": [
    {
     "data": {
      "text/plain": [
       "3"
      ]
     },
     "execution_count": 3,
     "metadata": {},
     "output_type": "execute_result"
    }
   ],
   "source": [
    "d[2]"
   ]
  },
  {
   "cell_type": "code",
   "execution_count": 4,
   "id": "e64ebae8",
   "metadata": {},
   "outputs": [
    {
     "data": {
      "text/plain": [
       "67"
      ]
     },
     "execution_count": 4,
     "metadata": {},
     "output_type": "execute_result"
    }
   ],
   "source": [
    "d['avi']"
   ]
  },
  {
   "cell_type": "code",
   "execution_count": 5,
   "id": "5a56d145",
   "metadata": {},
   "outputs": [
    {
     "data": {
      "text/plain": [
       "dict"
      ]
     },
     "execution_count": 5,
     "metadata": {},
     "output_type": "execute_result"
    }
   ],
   "source": [
    "type(d)"
   ]
  },
  {
   "cell_type": "code",
   "execution_count": 6,
   "id": "2acfd68d",
   "metadata": {},
   "outputs": [
    {
     "data": {
      "text/plain": [
       "[2, 'a', 'avi']"
      ]
     },
     "execution_count": 6,
     "metadata": {},
     "output_type": "execute_result"
    }
   ],
   "source": [
    "# If we casting the Dictionary --> We get the keys\n",
    "list(d)"
   ]
  },
  {
   "cell_type": "code",
   "execution_count": 7,
   "id": "53f3c5cd",
   "metadata": {},
   "outputs": [
    {
     "data": {
      "text/plain": [
       "[2, 'a', 'avi']"
      ]
     },
     "execution_count": 7,
     "metadata": {},
     "output_type": "execute_result"
    }
   ],
   "source": [
    "list(d)"
   ]
  },
  {
   "cell_type": "code",
   "execution_count": 8,
   "id": "58009551",
   "metadata": {},
   "outputs": [
    {
     "data": {
      "text/plain": [
       "{2, 'a', 'avi'}"
      ]
     },
     "execution_count": 8,
     "metadata": {},
     "output_type": "execute_result"
    }
   ],
   "source": [
    "set(d)"
   ]
  },
  {
   "cell_type": "code",
   "execution_count": 9,
   "id": "df942a22",
   "metadata": {},
   "outputs": [
    {
     "data": {
      "text/plain": [
       "(2, 'a', 'avi')"
      ]
     },
     "execution_count": 9,
     "metadata": {},
     "output_type": "execute_result"
    }
   ],
   "source": [
    "tuple(d)"
   ]
  },
  {
   "cell_type": "code",
   "execution_count": 10,
   "id": "75d4efe9",
   "metadata": {},
   "outputs": [
    {
     "data": {
      "text/plain": [
       "dict_values([3, 5, 67])"
      ]
     },
     "execution_count": 10,
     "metadata": {},
     "output_type": "execute_result"
    }
   ],
   "source": [
    "# we get list in a tuple\n",
    "d.values()"
   ]
  },
  {
   "cell_type": "code",
   "execution_count": 11,
   "id": "512fb2d6",
   "metadata": {},
   "outputs": [],
   "source": [
    "x = d.values()"
   ]
  },
  {
   "cell_type": "code",
   "execution_count": 12,
   "id": "36ca7223",
   "metadata": {},
   "outputs": [
    {
     "data": {
      "text/plain": [
       "dict_values([3, 5, 67])"
      ]
     },
     "execution_count": 12,
     "metadata": {},
     "output_type": "execute_result"
    }
   ],
   "source": [
    "x"
   ]
  },
  {
   "cell_type": "code",
   "execution_count": 25,
   "id": "7090f3b5",
   "metadata": {},
   "outputs": [],
   "source": [
    "# If we turn it to list - we can use location x[0]\n",
    "x = list(d.values())"
   ]
  },
  {
   "cell_type": "code",
   "execution_count": 26,
   "id": "af5724ac",
   "metadata": {},
   "outputs": [
    {
     "data": {
      "text/plain": [
       "3"
      ]
     },
     "execution_count": 26,
     "metadata": {},
     "output_type": "execute_result"
    }
   ],
   "source": [
    "x[0]"
   ]
  },
  {
   "cell_type": "code",
   "execution_count": 27,
   "id": "ec6b043a",
   "metadata": {},
   "outputs": [
    {
     "data": {
      "text/plain": [
       "dict_keys([2, 'a', 'avi'])"
      ]
     },
     "execution_count": 27,
     "metadata": {},
     "output_type": "execute_result"
    }
   ],
   "source": [
    "d.keys()\n"
   ]
  },
  {
   "cell_type": "code",
   "execution_count": 30,
   "id": "ae3b9a2b",
   "metadata": {},
   "outputs": [],
   "source": [
    "y = list(d.keys())"
   ]
  },
  {
   "cell_type": "code",
   "execution_count": 31,
   "id": "ba8e7823",
   "metadata": {},
   "outputs": [
    {
     "data": {
      "text/plain": [
       "[2, 'a', 'avi']"
      ]
     },
     "execution_count": 31,
     "metadata": {},
     "output_type": "execute_result"
    }
   ],
   "source": [
    "y"
   ]
  },
  {
   "cell_type": "code",
   "execution_count": 20,
   "id": "ded3a542",
   "metadata": {},
   "outputs": [],
   "source": [
    "# How do we fing the Key of value 5?"
   ]
  },
  {
   "cell_type": "code",
   "execution_count": 21,
   "id": "9bf36aab",
   "metadata": {},
   "outputs": [
    {
     "data": {
      "text/plain": [
       "1"
      ]
     },
     "execution_count": 21,
     "metadata": {},
     "output_type": "execute_result"
    }
   ],
   "source": [
    "x.index(5)"
   ]
  },
  {
   "cell_type": "code",
   "execution_count": 32,
   "id": "dbb3d623",
   "metadata": {},
   "outputs": [
    {
     "data": {
      "text/plain": [
       "'a'"
      ]
     },
     "execution_count": 32,
     "metadata": {},
     "output_type": "execute_result"
    }
   ],
   "source": [
    "y[1]"
   ]
  },
  {
   "cell_type": "code",
   "execution_count": 33,
   "id": "1ccbcdab",
   "metadata": {},
   "outputs": [
    {
     "data": {
      "text/plain": [
       "'a'"
      ]
     },
     "execution_count": 33,
     "metadata": {},
     "output_type": "execute_result"
    }
   ],
   "source": [
    "y[x.index(5)]"
   ]
  },
  {
   "cell_type": "code",
   "execution_count": 34,
   "id": "47d39eae",
   "metadata": {},
   "outputs": [],
   "source": [
    "## Can this be done? -- Below:"
   ]
  },
  {
   "cell_type": "code",
   "execution_count": 35,
   "id": "c409a5b4",
   "metadata": {},
   "outputs": [],
   "source": [
    "d = {(4,5): 'A'}"
   ]
  },
  {
   "cell_type": "code",
   "execution_count": 36,
   "id": "699a74c3",
   "metadata": {},
   "outputs": [
    {
     "data": {
      "text/plain": [
       "{(4, 5): 'A'}"
      ]
     },
     "execution_count": 36,
     "metadata": {},
     "output_type": "execute_result"
    }
   ],
   "source": [
    "d"
   ]
  },
  {
   "cell_type": "code",
   "execution_count": 37,
   "id": "33fc4262",
   "metadata": {},
   "outputs": [],
   "source": [
    "#List cannot be a key. but Tuple CAN be a key ()."
   ]
  },
  {
   "cell_type": "code",
   "execution_count": 38,
   "id": "d9534d1a",
   "metadata": {},
   "outputs": [
    {
     "data": {
      "text/plain": [
       "'A'"
      ]
     },
     "execution_count": 38,
     "metadata": {},
     "output_type": "execute_result"
    }
   ],
   "source": [
    "d[(4,5)]"
   ]
  },
  {
   "cell_type": "code",
   "execution_count": 39,
   "id": "b10871b9",
   "metadata": {},
   "outputs": [],
   "source": [
    "# Can Value be a key?"
   ]
  },
  {
   "cell_type": "code",
   "execution_count": 40,
   "id": "4178e93f",
   "metadata": {},
   "outputs": [],
   "source": [
    "d = {'a':(2,3)}"
   ]
  },
  {
   "cell_type": "code",
   "execution_count": 41,
   "id": "fdbcda57",
   "metadata": {},
   "outputs": [
    {
     "data": {
      "text/plain": [
       "(2, 3)"
      ]
     },
     "execution_count": 41,
     "metadata": {},
     "output_type": "execute_result"
    }
   ],
   "source": [
    "d['a']"
   ]
  },
  {
   "cell_type": "code",
   "execution_count": 42,
   "id": "3513ac85",
   "metadata": {},
   "outputs": [],
   "source": [
    "## Key can be only a tuple\n",
    "## Value can be anything"
   ]
  },
  {
   "cell_type": "code",
   "execution_count": 45,
   "id": "5788fa94",
   "metadata": {},
   "outputs": [],
   "source": [
    "# How do we get to '5'?\n",
    "# we use one key, to get to another key\n",
    "d={'a': {'b':5}}"
   ]
  },
  {
   "cell_type": "code",
   "execution_count": 46,
   "id": "24ccc30b",
   "metadata": {},
   "outputs": [
    {
     "data": {
      "text/plain": [
       "5"
      ]
     },
     "execution_count": 46,
     "metadata": {},
     "output_type": "execute_result"
    }
   ],
   "source": [
    "d['a']['b']"
   ]
  },
  {
   "cell_type": "code",
   "execution_count": 53,
   "id": "c88187e7",
   "metadata": {},
   "outputs": [],
   "source": [
    "#Another example\n",
    "d = {'rich': {'amit':22, 'david': 19, 'ido':18, 'ori':11},\n",
    "'shalev':{'tomu':20, 'romi':19}}"
   ]
  },
  {
   "cell_type": "code",
   "execution_count": 55,
   "id": "b1fdd567",
   "metadata": {},
   "outputs": [
    {
     "data": {
      "text/plain": [
       "11"
      ]
     },
     "execution_count": 55,
     "metadata": {},
     "output_type": "execute_result"
    }
   ],
   "source": [
    "d['rich']['ori']"
   ]
  },
  {
   "cell_type": "code",
   "execution_count": 58,
   "id": "fa3d1913",
   "metadata": {},
   "outputs": [
    {
     "data": {
      "text/plain": [
       "23"
      ]
     },
     "execution_count": 58,
     "metadata": {},
     "output_type": "execute_result"
    }
   ],
   "source": [
    "d['shalev']['romi']"
   ]
  },
  {
   "cell_type": "code",
   "execution_count": 59,
   "id": "caf1df82",
   "metadata": {},
   "outputs": [],
   "source": [
    "# Here we change the age --> The values has changed, the key remain the same\n",
    "d['shalev']['romi'] = 23"
   ]
  },
  {
   "cell_type": "code",
   "execution_count": null,
   "id": "417f66a8",
   "metadata": {},
   "outputs": [],
   "source": [
    "# DICTIONARY:"
   ]
  },
  {
   "cell_type": "code",
   "execution_count": 60,
   "id": "7bcb07ed",
   "metadata": {},
   "outputs": [],
   "source": [
    "## Exersice: Dictionary\n",
    "# ID, Name, City"
   ]
  },
  {
   "cell_type": "code",
   "execution_count": 66,
   "id": "63af9233",
   "metadata": {},
   "outputs": [
    {
     "name": "stdout",
     "output_type": "stream",
     "text": [
      "please enter your ID0123456\n",
      "please enter your Nameefrat\n",
      "please enter your CityPirentze\n"
     ]
    }
   ],
   "source": [
    "id = input ('please enter your ID')\n",
    "name = input ('please enter your Name')\n",
    "city = input('please enter your City')\n",
    "\n",
    "d = {'id' : id, 'name' : name, 'city' : city}"
   ]
  },
  {
   "cell_type": "code",
   "execution_count": 67,
   "id": "5a5b8423",
   "metadata": {},
   "outputs": [
    {
     "data": {
      "text/plain": [
       "{'id': '0123456', 'name': 'efrat', 'city': 'Pirentze'}"
      ]
     },
     "execution_count": 67,
     "metadata": {},
     "output_type": "execute_result"
    }
   ],
   "source": [
    "d"
   ]
  },
  {
   "cell_type": "code",
   "execution_count": 68,
   "id": "c5cded04",
   "metadata": {},
   "outputs": [],
   "source": [
    "#Dictionary with students Grades:\n",
    "# Who got 60?"
   ]
  },
  {
   "cell_type": "code",
   "execution_count": 69,
   "id": "70d1a879",
   "metadata": {},
   "outputs": [],
   "source": [
    "d={'alex':90, 'ben':100, 'elad':60, 'dani': 75}"
   ]
  },
  {
   "cell_type": "code",
   "execution_count": 75,
   "id": "87e2d3cd",
   "metadata": {
    "scrolled": true
   },
   "outputs": [
    {
     "data": {
      "text/plain": [
       "[90, 100, 60, 75]"
      ]
     },
     "execution_count": 75,
     "metadata": {},
     "output_type": "execute_result"
    }
   ],
   "source": [
    "#Step 1 - Get the values\n",
    "list(d.values())"
   ]
  },
  {
   "cell_type": "code",
   "execution_count": 76,
   "id": "497e4b20",
   "metadata": {},
   "outputs": [
    {
     "data": {
      "text/plain": [
       "2"
      ]
     },
     "execution_count": 76,
     "metadata": {},
     "output_type": "execute_result"
    }
   ],
   "source": [
    "# step 2 - Get the location of value 60\n",
    "list(d.values()).index(60)"
   ]
  },
  {
   "cell_type": "code",
   "execution_count": 71,
   "id": "ae7d9131",
   "metadata": {},
   "outputs": [
    {
     "data": {
      "text/plain": [
       "'elad'"
      ]
     },
     "execution_count": 71,
     "metadata": {},
     "output_type": "execute_result"
    }
   ],
   "source": [
    "# step 3 - get the key of location 2\n",
    "list(d.keys())[list(d.values()).index(60)]"
   ]
  },
  {
   "cell_type": "code",
   "execution_count": 72,
   "id": "494d0b07",
   "metadata": {},
   "outputs": [],
   "source": [
    "# Exersice 30 from Here:\n",
    "# https://www.w3resource.com/python-exercises/dictionary/"
   ]
  },
  {
   "cell_type": "code",
   "execution_count": 73,
   "id": "133fa033",
   "metadata": {},
   "outputs": [],
   "source": [
    "# 30. Write a Python program to get the top three items in a shop.\n",
    "# Sample data: {'item1': 45.50, 'item2':35, 'item3': 41.30, 'item4':55, 'item5': 24}\n",
    "# Expected Output:\n",
    "# item4 55\n",
    "# item1 45.5\n",
    "# item3 41.3"
   ]
  },
  {
   "cell_type": "code",
   "execution_count": 127,
   "id": "7686fe3e",
   "metadata": {},
   "outputs": [],
   "source": [
    "tg = {'item1': 45.50, 'item2':35, 'item3': 41.30, 'item4':55, 'item5': 24}"
   ]
  },
  {
   "cell_type": "code",
   "execution_count": 128,
   "id": "b50cd925",
   "metadata": {},
   "outputs": [
    {
     "data": {
      "text/plain": [
       "[45.5, 35, 41.3, 55, 24]"
      ]
     },
     "execution_count": 128,
     "metadata": {},
     "output_type": "execute_result"
    }
   ],
   "source": [
    "list(tg.values())\n"
   ]
  },
  {
   "cell_type": "code",
   "execution_count": 129,
   "id": "de1c0b6a",
   "metadata": {},
   "outputs": [],
   "source": [
    "tg1 = sorted(list(tg.values()))"
   ]
  },
  {
   "cell_type": "code",
   "execution_count": 130,
   "id": "4b586bd6",
   "metadata": {},
   "outputs": [
    {
     "data": {
      "text/plain": [
       "[24, 35, 41.3, 45.5, 55]"
      ]
     },
     "execution_count": 130,
     "metadata": {},
     "output_type": "execute_result"
    }
   ],
   "source": [
    "tg1"
   ]
  },
  {
   "cell_type": "code",
   "execution_count": 132,
   "id": "b8067dc6",
   "metadata": {},
   "outputs": [
    {
     "name": "stdout",
     "output_type": "stream",
     "text": [
      "item4 55\n",
      "item1 45.5\n",
      "item3 41.3\n"
     ]
    }
   ],
   "source": [
    "for i in range (1,4):\n",
    "    print(list(tg.keys())[list(tg.values()).index(tg1[i*-1])] , \n",
    "         tg1[i*-1])"
   ]
  },
  {
   "cell_type": "code",
   "execution_count": 113,
   "id": "d16b4ac0",
   "metadata": {},
   "outputs": [],
   "source": [
    "## answer from class:\n",
    "d={'item1': 45.50, 'item2':35, 'item3': 41.30, 'item4':55, 'item5': 24}\n"
   ]
  },
  {
   "cell_type": "code",
   "execution_count": 114,
   "id": "8269c982",
   "metadata": {},
   "outputs": [
    {
     "data": {
      "text/plain": [
       "dict_values([45.5, 35, 41.3, 55, 24])"
      ]
     },
     "execution_count": 114,
     "metadata": {},
     "output_type": "execute_result"
    }
   ],
   "source": [
    "d.values()"
   ]
  },
  {
   "cell_type": "code",
   "execution_count": 115,
   "id": "3d07d00c",
   "metadata": {},
   "outputs": [],
   "source": [
    "x = list(d.values())"
   ]
  },
  {
   "cell_type": "code",
   "execution_count": 123,
   "id": "e01f0d37",
   "metadata": {},
   "outputs": [],
   "source": [
    "x.sort()\n"
   ]
  },
  {
   "cell_type": "code",
   "execution_count": 120,
   "id": "2f83be52",
   "metadata": {},
   "outputs": [
    {
     "name": "stdout",
     "output_type": "stream",
     "text": [
      "item4 55\n",
      "item1 45.5\n",
      "item3 41.3\n"
     ]
    }
   ],
   "source": [
    "x = list(d.values())\n",
    "x.sort()\n",
    "for i in range (1,4):\n",
    "    print(list(d.keys())[list(d.values()).index(x[i*-1])] , \n",
    "         x[i*-1])"
   ]
  },
  {
   "cell_type": "code",
   "execution_count": 143,
   "id": "e7c834f4",
   "metadata": {},
   "outputs": [],
   "source": [
    "# Ex \n",
    "d = {'math': 81, 'Physics': 83, 'Chemistry': 87}"
   ]
  },
  {
   "cell_type": "code",
   "execution_count": 144,
   "id": "caa4cd9e",
   "metadata": {},
   "outputs": [],
   "source": [
    "x = list (d.values())\n"
   ]
  },
  {
   "cell_type": "code",
   "execution_count": 147,
   "id": "88b84b98",
   "metadata": {},
   "outputs": [
    {
     "name": "stdout",
     "output_type": "stream",
     "text": [
      "Chemistry 87\n",
      "Physics 83\n",
      "math 81\n"
     ]
    }
   ],
   "source": [
    "x = list(d.values())\n",
    "x.sort(reverse=True)\n",
    "for i in (x):\n",
    "    print(list(d.keys())[list(d.values()).index(i)] , i)\n",
    "        "
   ]
  },
  {
   "cell_type": "code",
   "execution_count": 148,
   "id": "cdf8a3ea",
   "metadata": {},
   "outputs": [
    {
     "data": {
      "text/plain": [
       "[87, 83, 81]"
      ]
     },
     "execution_count": 148,
     "metadata": {},
     "output_type": "execute_result"
    }
   ],
   "source": [
    "x"
   ]
  },
  {
   "cell_type": "code",
   "execution_count": 149,
   "id": "c545e132",
   "metadata": {},
   "outputs": [],
   "source": [
    "# For Loop"
   ]
  },
  {
   "cell_type": "code",
   "execution_count": 150,
   "id": "48d00314",
   "metadata": {},
   "outputs": [
    {
     "name": "stdout",
     "output_type": "stream",
     "text": [
      "p\n",
      "y\n",
      "t\n",
      "h\n",
      "o\n",
      "n\n"
     ]
    }
   ],
   "source": [
    "# For i In: This is a loop (the word 'python' is a collection of characters. each character is an array)\n",
    "for i in 'python':\n",
    "    print(i)\n",
    "    "
   ]
  },
  {
   "cell_type": "code",
   "execution_count": 151,
   "id": "cd5de4a7",
   "metadata": {},
   "outputs": [],
   "source": [
    "# run this, make sure all items are summerized to one result\n",
    "# we can't sum a list inside a list\n",
    "ls = [1,3,4,[5,6,7,8,9]]"
   ]
  },
  {
   "cell_type": "code",
   "execution_count": 157,
   "id": "bee35d38",
   "metadata": {},
   "outputs": [
    {
     "ename": "IndentationError",
     "evalue": "expected an indented block after 'for' statement on line 1 (412242534.py, line 2)",
     "output_type": "error",
     "traceback": [
      "\u001b[1;36m  Cell \u001b[1;32mIn[157], line 2\u001b[1;36m\u001b[0m\n\u001b[1;33m    sum(ls)\u001b[0m\n\u001b[1;37m    ^\u001b[0m\n\u001b[1;31mIndentationError\u001b[0m\u001b[1;31m:\u001b[0m expected an indented block after 'for' statement on line 1\n"
     ]
    }
   ],
   "source": [
    "for i in ls:\n",
    "sum(ls)\n",
    "print(Sum)\n",
    "    print(i)"
   ]
  },
  {
   "cell_type": "code",
   "execution_count": 158,
   "id": "799f3d22",
   "metadata": {},
   "outputs": [
    {
     "data": {
      "text/plain": [
       "10"
      ]
     },
     "execution_count": 158,
     "metadata": {},
     "output_type": "execute_result"
    }
   ],
   "source": [
    "ls1 = [1,2,3,4]\n",
    "sum (ls1)"
   ]
  },
  {
   "cell_type": "code",
   "execution_count": 162,
   "id": "6916f01f",
   "metadata": {},
   "outputs": [
    {
     "name": "stdout",
     "output_type": "stream",
     "text": [
      "45\n"
     ]
    }
   ],
   "source": [
    "# Answer from class (i gets the VALUES) ls = [ints [list]]\n",
    "ls = [1,2,3,4, [5,6,7,8,9]]\n",
    "k=0\n",
    "for i in ls:\n",
    "    if type(i)==list:  # the sum of 5,6,7,8,9\n",
    "        k = k+ sum(i)\n",
    "    else:\n",
    "        k = k+i   #the sum of 1,2,3,4 \n",
    "print (k)"
   ]
  },
  {
   "cell_type": "code",
   "execution_count": 161,
   "id": "a88a20a3",
   "metadata": {},
   "outputs": [
    {
     "name": "stdout",
     "output_type": "stream",
     "text": [
      "45\n"
     ]
    }
   ],
   "source": [
    "ls = [1,2,3,4, [5,6,7,8,9]]\n",
    "k=0\n",
    "for i in ls:\n",
    "    if type(i)==list:\n",
    "        k = k+ sum(i)\n",
    "    else:\n",
    "        k = k+i    \n",
    "print (k)"
   ]
  },
  {
   "cell_type": "code",
   "execution_count": null,
   "id": "eea86edc",
   "metadata": {},
   "outputs": [],
   "source": []
  }
 ],
 "metadata": {
  "kernelspec": {
   "display_name": "Python 3 (ipykernel)",
   "language": "python",
   "name": "python3"
  },
  "language_info": {
   "codemirror_mode": {
    "name": "ipython",
    "version": 3
   },
   "file_extension": ".py",
   "mimetype": "text/x-python",
   "name": "python",
   "nbconvert_exporter": "python",
   "pygments_lexer": "ipython3",
   "version": "3.10.9"
  }
 },
 "nbformat": 4,
 "nbformat_minor": 5
}
